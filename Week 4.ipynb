{
 "cells": [
  {
   "cell_type": "code",
   "execution_count": 1,
   "id": "00b2a19d",
   "metadata": {},
   "outputs": [
    {
     "name": "stdout",
     "output_type": "stream",
     "text": [
      "Python is cool!\n"
     ]
    }
   ],
   "source": [
    "who = 'Python'\n",
    "what = 'cool'\n",
    "str1 = f\"{who} is {what}!\" \n",
    "print(str1)"
   ]
  },
  {
   "cell_type": "code",
   "execution_count": 2,
   "id": "ff708330",
   "metadata": {},
   "outputs": [
    {
     "name": "stdout",
     "output_type": "stream",
     "text": [
      "Python is cool\n"
     ]
    }
   ],
   "source": [
    "str2 = \"{} is {}\".format(who, what)\n",
    "print(str2)"
   ]
  },
  {
   "cell_type": "code",
   "execution_count": 3,
   "id": "f8b7e100",
   "metadata": {},
   "outputs": [
    {
     "name": "stdout",
     "output_type": "stream",
     "text": [
      "Python is cool\n"
     ]
    }
   ],
   "source": [
    "str3 = \"%s is %s\"%(who, what)\n",
    "print(str3)"
   ]
  },
  {
   "cell_type": "code",
   "execution_count": 4,
   "id": "d20844e6",
   "metadata": {},
   "outputs": [
    {
     "name": "stdout",
     "output_type": "stream",
     "text": [
      "The Sun Shines Bright\n",
      "['The', 'sun', 'shines', 'bright']\n",
      "3\n"
     ]
    }
   ],
   "source": [
    "string = 'The sun shines bright'\n",
    "print(string.title())\n",
    "print(string.split())\n",
    "print(string.count('s', 0, len(string)))"
   ]
  },
  {
   "cell_type": "code",
   "execution_count": 5,
   "id": "9f7504f4",
   "metadata": {},
   "outputs": [
    {
     "name": "stdout",
     "output_type": "stream",
     "text": [
      "True\n"
     ]
    }
   ],
   "source": [
    "string2 = 'I am handsome!'\n",
    "print(\"handsome\" in string2)"
   ]
  },
  {
   "cell_type": "code",
   "execution_count": 6,
   "id": "2b9eb374",
   "metadata": {},
   "outputs": [
    {
     "name": "stdout",
     "output_type": "stream",
     "text": [
      "x: 10\n",
      "<class 'str'>\n",
      "x:10 y:11.0\n"
     ]
    }
   ],
   "source": [
    "x = input(\"x: \")\n",
    "print(type(x))\n",
    "y = float(x) + 1\n",
    "print(f\"x:{x} y:{y}\")"
   ]
  },
  {
   "cell_type": "code",
   "execution_count": 7,
   "id": "e642ea23",
   "metadata": {},
   "outputs": [
    {
     "name": "stdout",
     "output_type": "stream",
     "text": [
      "Name: aaron\n",
      "Matrix Number: s21b0057\n",
      "Year of Birthday: 1999\n",
      "Name:aaron\n",
      "Matrix Number:s21b0057\n",
      "Birthday:1999\n",
      "Age:24\n"
     ]
    }
   ],
   "source": [
    "name = input(\"Name: \")\n",
    "matrixNumber = input(\"Matrix Number: \")\n",
    "birthday = input(\"Year of Birthday: \")\n",
    "age = 2023 - int(birthday)\n",
    "print(f\"\"\"Name:{name}\n",
    "Matrix Number:{matrixNumber}\n",
    "Birthday:{birthday}\n",
    "Age:{age}\"\"\")"
   ]
  },
  {
   "cell_type": "code",
   "execution_count": 8,
   "id": "f68ae6eb",
   "metadata": {},
   "outputs": [
    {
     "data": {
      "text/plain": [
       "True"
      ]
     },
     "execution_count": 8,
     "metadata": {},
     "output_type": "execute_result"
    }
   ],
   "source": [
    ">>> 5 == 5"
   ]
  },
  {
   "cell_type": "code",
   "execution_count": 9,
   "id": "77256360",
   "metadata": {},
   "outputs": [
    {
     "data": {
      "text/plain": [
       "False"
      ]
     },
     "execution_count": 9,
     "metadata": {},
     "output_type": "execute_result"
    }
   ],
   "source": [
    ">>> 5 == 6"
   ]
  },
  {
   "cell_type": "code",
   "execution_count": 10,
   "id": "9156eef5",
   "metadata": {},
   "outputs": [
    {
     "name": "stdout",
     "output_type": "stream",
     "text": [
      "<class 'bool'>\n"
     ]
    }
   ],
   "source": [
    ">>> print(type(True))"
   ]
  },
  {
   "cell_type": "code",
   "execution_count": 11,
   "id": "980227b4",
   "metadata": {},
   "outputs": [
    {
     "data": {
      "text/plain": [
       "False"
      ]
     },
     "execution_count": 11,
     "metadata": {},
     "output_type": "execute_result"
    }
   ],
   "source": [
    ">>> 10 == '10'"
   ]
  },
  {
   "cell_type": "code",
   "execution_count": 13,
   "id": "3c8ddbec",
   "metadata": {},
   "outputs": [
    {
     "name": "stdout",
     "output_type": "stream",
     "text": [
      "x is positive value\n"
     ]
    }
   ],
   "source": [
    "x = 10\n",
    "if x >= 10: \n",
    "    print('x is positive value')"
   ]
  },
  {
   "cell_type": "code",
   "execution_count": 14,
   "id": "52828690",
   "metadata": {},
   "outputs": [
    {
     "name": "stdout",
     "output_type": "stream",
     "text": [
      "x is even\n"
     ]
    }
   ],
   "source": [
    "if x % 2 == 0: \n",
    "    print('x is even')\n",
    "else: \n",
    "    print(\"x is odd\")"
   ]
  },
  {
   "cell_type": "code",
   "execution_count": 15,
   "id": "ed101f63",
   "metadata": {},
   "outputs": [
    {
     "name": "stdout",
     "output_type": "stream",
     "text": [
      "x is less than y\n"
     ]
    }
   ],
   "source": [
    "x = 10\n",
    "y = 11\n",
    "if x < y: \n",
    "    print(\"x is less than y\")\n",
    "elif x > y:\n",
    "    print(\"x is greater than y\")\n",
    "else: \n",
    "    print(\"x and y are equal\")"
   ]
  },
  {
   "cell_type": "code",
   "execution_count": 18,
   "id": "34c46300",
   "metadata": {},
   "outputs": [
    {
     "name": "stdout",
     "output_type": "stream",
     "text": [
      "Eligible\n"
     ]
    }
   ],
   "source": [
    "age = 22\n",
    "message = \"Eligible\" if age >= 18 else \"Not eligible\"\n",
    "print(message)"
   ]
  },
  {
   "cell_type": "code",
   "execution_count": 20,
   "id": "ee88f579",
   "metadata": {},
   "outputs": [
    {
     "name": "stdout",
     "output_type": "stream",
     "text": [
      "Eligible\n",
      "Not Eligible\n"
     ]
    }
   ],
   "source": [
    "high_income = True\n",
    "good_credit = True\n",
    "student = True\n",
    "\n",
    "if high_income and good_credit: \n",
    "    print(\"Eligible\")\n",
    "else:\n",
    "    print(\"Not eligible\")\n",
    "\n",
    "if high_income and good_credit and not student:\n",
    "    print(\"Eligible\")\n",
    "else: \n",
    "    print(\"Not Eligible\")"
   ]
  },
  {
   "cell_type": "code",
   "execution_count": 23,
   "id": "4783a373",
   "metadata": {},
   "outputs": [
    {
     "name": "stdout",
     "output_type": "stream",
     "text": [
      "sending a message\n",
      "sending a message\n",
      "sending a message\n",
      "Attempt 0\n",
      "Attempt 1\n",
      "Attempt 2\n"
     ]
    }
   ],
   "source": [
    "for n in range(3): \n",
    "    print(\"sending a message\")\n",
    "    \n",
    "for n in range(3): \n",
    "    print(\"Attempt\", n)"
   ]
  },
  {
   "cell_type": "code",
   "execution_count": 24,
   "id": "3d5cbaca",
   "metadata": {},
   "outputs": [
    {
     "name": "stdout",
     "output_type": "stream",
     "text": [
      "Attempt 1 .\n",
      "Attempt 2 ..\n",
      "Attempt 3 ...\n"
     ]
    }
   ],
   "source": [
    "for number in range(3):\n",
    "    print(\"Attempt\", number + 1, (number+1) * '.')"
   ]
  },
  {
   "cell_type": "code",
   "execution_count": 25,
   "id": "eae98f1c",
   "metadata": {},
   "outputs": [
    {
     "name": "stdout",
     "output_type": "stream",
     "text": [
      "0 0\n",
      "0 1\n",
      "1 0\n",
      "1 1\n"
     ]
    }
   ],
   "source": [
    "for x in range(2): \n",
    "    for y in range(2): \n",
    "        print(f\"{x} {y}\")"
   ]
  },
  {
   "cell_type": "code",
   "execution_count": 1,
   "id": "4995af19",
   "metadata": {},
   "outputs": [
    {
     "name": "stdout",
     "output_type": "stream",
     "text": [
      "Hello there!\n",
      "Welcome to Function in Python\n"
     ]
    }
   ],
   "source": [
    "def greet(): \n",
    "    print(\"Hello there!\")\n",
    "    print(\"Welcome to Function in Python\")\n",
    "\n",
    "greet()"
   ]
  },
  {
   "cell_type": "code",
   "execution_count": 5,
   "id": "0c2da3c6",
   "metadata": {},
   "outputs": [
    {
     "name": "stdout",
     "output_type": "stream",
     "text": [
      "Hi Aaron\n"
     ]
    }
   ],
   "source": [
    "def get_greeting(name):\n",
    "    return f\"Hi {name}\"\n",
    "\n",
    "message = get_greeting(\"Aaron\")\n",
    "print(message)"
   ]
  }
 ],
 "metadata": {
  "kernelspec": {
   "display_name": "Python 3 (ipykernel)",
   "language": "python",
   "name": "python3"
  },
  "language_info": {
   "codemirror_mode": {
    "name": "ipython",
    "version": 3
   },
   "file_extension": ".py",
   "mimetype": "text/x-python",
   "name": "python",
   "nbconvert_exporter": "python",
   "pygments_lexer": "ipython3",
   "version": "3.11.5"
  }
 },
 "nbformat": 4,
 "nbformat_minor": 5
}
