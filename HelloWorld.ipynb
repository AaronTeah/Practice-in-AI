{
 "cells": [
  {
   "cell_type": "code",
   "execution_count": 1,
   "id": "10ae8c24",
   "metadata": {},
   "outputs": [
    {
     "name": "stdout",
     "output_type": "stream",
     "text": [
      "Hello, World\n"
     ]
    }
   ],
   "source": [
    "print('Hello, World')"
   ]
  },
  {
   "cell_type": "markdown",
   "id": "fc081b5c",
   "metadata": {},
   "source": [
    "# Welcome to new Jupyter Notebook\n",
    "- This is my first tutorial using Jupyter\n",
    "- The language is Python\n",
    ":)"
   ]
  },
  {
   "cell_type": "code",
   "execution_count": 3,
   "id": "10021bee",
   "metadata": {},
   "outputs": [
    {
     "name": "stdout",
     "output_type": "stream",
     "text": [
      "22\n"
     ]
    }
   ],
   "source": [
    "age = 22\n",
    "print(age)"
   ]
  },
  {
   "cell_type": "markdown",
   "id": "87e4a811",
   "metadata": {},
   "source": [
    "# Tutorial 3\n",
    "TASK 1 – Python Basic\n",
    "In this task, you will learn the basics of Python syntax by running some sample code. Python is known for its simplicity and readability, making it an ideal language for beginners."
   ]
  },
  {
   "cell_type": "code",
   "execution_count": 8,
   "id": "2f0c3247",
   "metadata": {},
   "outputs": [],
   "source": [
    "# Primitive Data Types\n",
    "my_integer = 42  # Integer data type\n",
    "my_float = 3.141592  # Float data type\n",
    "my_string = \"Hello, Python!\"  # String data type\n",
    "my_boolean = True  # Boolean data type"
   ]
  },
  {
   "cell_type": "code",
   "execution_count": 10,
   "id": "7124a7b4",
   "metadata": {},
   "outputs": [],
   "source": [
    "# Container Data Types\n",
    "my_list = [1, 2, 3, 4, 5]  # List data type (a collection of values)\n",
    "my_dict = {'name': 'John', 'age': 30}  # Dictionary data type (key-value pairs)"
   ]
  },
  {
   "cell_type": "code",
   "execution_count": 11,
   "id": "00784a83",
   "metadata": {},
   "outputs": [
    {
     "name": "stdout",
     "output_type": "stream",
     "text": [
      "Integer: 42\n",
      "Float: 3.141592\n",
      "String: Hello, Python!\n",
      "Boolean: True\n",
      "List: [1, 2, 3, 4, 5]\n",
      "Dictionary: {'name': 'John', 'age': 30}\n"
     ]
    }
   ],
   "source": [
    "#Display output\n",
    "print(\"Integer:\", my_integer)\n",
    "print(\"Float:\", my_float)\n",
    "print(\"String:\", my_string)\n",
    "print(\"Boolean:\", my_boolean)\n",
    "print(\"List:\", my_list)\n",
    "print(\"Dictionary:\", my_dict)"
   ]
  },
  {
   "cell_type": "markdown",
   "id": "8763678c",
   "metadata": {},
   "source": [
    "# TASK 2 - Writing a BMI Calculator in Python-\n",
    "In this task, you will apply the knowledge you've gained about data types, assignment statements, and arithmetic operations to create a simple Python program for calculating the Body Mass Index (BMI). There is no need for user input; instead, you will directly assign values to variables and run the code to obtain the BMI. Use the (BMI) formula given below. \n"
   ]
  },
  {
   "cell_type": "code",
   "execution_count": 19,
   "id": "1a0a2e40",
   "metadata": {},
   "outputs": [
    {
     "name": "stdout",
     "output_type": "stream",
     "text": [
      "BMI for Azanizam\n",
      "My weight = 70.0 kg\n",
      "My height = 1.75 m\n",
      "My BMI = 22.86 \n"
     ]
    }
   ],
   "source": [
    "name = 'Azanizam'\n",
    "weight_kg = 70.0\n",
    "height_m = 1.75\n",
    "bmi = weight_kg / height_m ** 2\n",
    "print('BMI for ' + name)\n",
    "print(f'My weight = {weight_kg} kg')\n",
    "print(f'My height = {height_m} m')\n",
    "print(f'My BMI = {round(bmi, 2)} ')"
   ]
  }
 ],
 "metadata": {
  "kernelspec": {
   "display_name": "Python 3 (ipykernel)",
   "language": "python",
   "name": "python3"
  },
  "language_info": {
   "codemirror_mode": {
    "name": "ipython",
    "version": 3
   },
   "file_extension": ".py",
   "mimetype": "text/x-python",
   "name": "python",
   "nbconvert_exporter": "python",
   "pygments_lexer": "ipython3",
   "version": "3.11.5"
  }
 },
 "nbformat": 4,
 "nbformat_minor": 5
}
